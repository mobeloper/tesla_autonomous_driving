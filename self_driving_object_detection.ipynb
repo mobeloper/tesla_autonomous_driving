{
 "cells": [
  {
   "cell_type": "markdown",
   "metadata": {},
   "source": [
    "# Caltech AI & Machine Learning Bootcamp\n",
    "\n",
    "#### Capstone Project\n",
    "#### CB AIML JAN 2024 COHORT 2\n",
    "#### Student: Eric Michel"
   ]
  },
  {
   "cell_type": "markdown",
   "metadata": {},
   "source": [
    "# Object Detection for Autonomous Driving\n",
    "\n",
    "July 6, 2024\n",
    "\n",
    "## Project Statement:\n",
    "Autonomous vehicles (AV) and intelligent transport systems (ITS) are the future of road \n",
    "transport. Automatic detection of vehicles on the road in real-time helps AV technology \n",
    "and makes ITS more intelligent in terms of vehicle tracking, vehicle counting, and road \n",
    "incident response.\n",
    "\n",
    "## Goal\n",
    "To Develop an AI model using a deep learning framework that predicts the type of vehicle present in an image as well as localizing the vehicle by rectangular bounding box.\n",
    "\n",
    "\n",
    "Content:\n",
    "1. Folder for custom model training and child folders to store data\n",
    "2. Preparation of the dataset for model training and keep the following points in mind while \n",
    "preparing it:\n",
    "• This dataset contains many images, and depending on the compute power of the VM, it \n",
    "might take a very long time to unzip this huge amount of data.\n",
    "3. Create an CNN architecture for object detection of your choice to train an object detection \n",
    "model. Please note that algorithm or architecture selection is a very important aspect of ML \n",
    "model training, and you must pick the one that works the best for your dataset.\n",
    "4. Evaluate the model and check the test results.\n",
    "5. Run inferences on sample images and see if vehicles are detected accurately.\n"
   ]
  },
  {
   "cell_type": "markdown",
   "metadata": {},
   "source": []
  }
 ],
 "metadata": {
  "language_info": {
   "name": "python"
  }
 },
 "nbformat": 4,
 "nbformat_minor": 2
}
